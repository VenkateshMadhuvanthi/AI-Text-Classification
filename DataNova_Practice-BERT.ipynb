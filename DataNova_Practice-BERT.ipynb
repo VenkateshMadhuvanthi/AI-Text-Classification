# Load the daigt_external_dataset.csv
import pandas as pd
df = pd.read_csv("/content/ai-ga-dataset.csv", engine='python', on_bad_lines='skip')
# Display the first few rows to understand its structure
display(df.head())
